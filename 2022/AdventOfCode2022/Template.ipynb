{
 "cells": [
  {
   "cell_type": "code",
   "execution_count": 3,
   "metadata": {
    "dotnet_interactive": {
     "language": "csharp"
    },
    "polyglot_notebook": {
     "language": "csharp"
    },
    "vscode": {
     "languageId": "dotnet-interactive.csharp"
    }
   },
   "outputs": [
    {
     "name": "stdout",
     "output_type": "stream",
     "text": [
      "Problem 01:\r\n",
      "Test Score:15\r\n",
      "Puzzle Score:11666\r\n",
      "\r\n",
      "Problem 02:\r\n",
      "Test Score:12\r\n",
      "Puzzle Score:12767\r\n"
     ]
    }
   ],
   "source": [
    "using System.IO;\n",
    "\n",
    "var inputFunction = (string day, bool isTest) => {\n",
    "    return File.ReadAllText($\"InputFiles\\\\D{day}{(isTest ? \"_test\" : \"\")}.txt\").Split(\"\\n\");\n",
    "};\n",
    "\n",
    "var puzzleFunction = (bool isTest, Func<string, bool, string[]> inputFunction) => {\n",
    "    var input = inputFunction(\"02\", isTest);\n",
    "    Console.WriteLine((isTest ? \"Test\" : \"Puzzle\"));\n",
    "};\n",
    "\n",
    "Console.WriteLine(\"Problem 01:\");\n",
    "puzzleFunction(true, inputFunction);\n",
    "// puzzleFunction(false, inputFunction, scoreFunction);\n",
    "\n",
    "Console.WriteLine(\"\");\n",
    "Console.WriteLine(\"Problem 02:\");\n",
    "puzzleFunction(true, inputFunction);\n",
    "// puzzleFunction(false, inputFunction, scoreFunction);\n",
    "\n",
    "\n"
   ]
  }
 ],
 "metadata": {
  "kernelspec": {
   "display_name": ".NET (C#)",
   "language": "C#",
   "name": ".net-csharp"
  },
  "language_info": {
   "name": "C#"
  }
 },
 "nbformat": 4,
 "nbformat_minor": 2
}
