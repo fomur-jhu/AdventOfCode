{
 "cells": [
  {
   "cell_type": "code",
   "execution_count": null,
   "metadata": {
    "dotnet_interactive": {
     "language": "csharp"
    },
    "polyglot_notebook": {
     "language": "csharp"
    },
    "vscode": {
     "languageId": "dotnet-interactive.csharp"
    }
   },
   "outputs": [],
   "source": [
    "using System.IO;\n",
    "using System.Collections.Generic;\n",
    "using System.Linq;\n",
    "using System.Text;\n",
    "using System.Linq.Expressions;\n",
    "\n",
    "var lineSeparator = \"\\r\\n\";\n",
    "var day = \"0\";\n",
    "\n",
    "var inputFunction = (string day, bool isTest) => {\n",
    "    var file = File.ReadAllText($\"InputFiles\\\\D{day}{(isTest ? \"_test\" : \"\")}.txt\");\n",
    "    lineSeparator = file.Contains(\"\\r\\n\") ? \"\\r\\n\" : \"\\n\";\n",
    "    return file.Split(lineSeparator, StringSplitOptions.RemoveEmptyEntries);\n",
    "};\n",
    "\n",
    "var solvingFunction = (string s) => { \n",
    "    return 0;\n",
    "};\n",
    "\n",
    "var puzzleFunction = (bool isTest, Func<string, bool, string[]> inputFunction, Func<string, int> solvingFunction) => {\n",
    "    var input = inputFunction(day, isTest);\n",
    "    Console.WriteLine((isTest ? \"Test\" : \"Puzzle\"));\n",
    "};\n",
    "\n",
    "Console.WriteLine(\"Problem 01:\");\n",
    "puzzleFunction(true, inputFunction, solvingFunction);\n",
    "puzzleFunction(false, inputFunction, solvingFunction);\n",
    "\n",
    "// Console.WriteLine(\"\");\n",
    "// Console.WriteLine(\"Problem 02:\");\n",
    "// puzzleFunction(true, inputFunction, solvingFunction);\n",
    "// puzzleFunction(false, inputFunction, solvingFunction);\n",
    "\n",
    "\n"
   ]
  }
 ],
 "metadata": {
  "kernelspec": {
   "display_name": ".NET (C#)",
   "language": "C#",
   "name": ".net-csharp"
  },
  "language_info": {
   "name": "C#"
  }
 },
 "nbformat": 4,
 "nbformat_minor": 2
}
