{
 "cells": [
  {
   "cell_type": "code",
   "execution_count": 1,
   "metadata": {
    "dotnet_interactive": {
     "language": "csharp"
    },
    "polyglot_notebook": {
     "language": "csharp"
    },
    "vscode": {
     "languageId": "dotnet-interactive.csharp"
    }
   },
   "outputs": [
    {
     "name": "stdout",
     "output_type": "stream",
     "text": [
      "Problem 01:\r\n",
      "Test Result is:2\r\n",
      "Puzzle Result is:456\r\n",
      "\r\n",
      "Problem 02:\r\n",
      "Test Result is:4\r\n",
      "Puzzle Result is:808\r\n"
     ]
    }
   ],
   "source": [
    "using System.IO;\n",
    "using System.Collections.Generic;\n",
    "using System.Linq;\n",
    "using System.Text;\n",
    "using System.Linq.Expressions;\n",
    "\n",
    "var inputFunction = (string day, bool isTest) => {\n",
    "    return File.ReadAllText($\"InputFiles\\\\D{day}{(isTest ? \"_test\" : \"\")}.txt\").Split(\"\\n\");\n",
    "};\n",
    "\n",
    "var solvingFunction = (string[] pairs) => {\n",
    "    var pair1 = pairs[0].Split(\"-\").Select(s => Convert.ToInt32(s)).ToArray();\n",
    "    var pair2 = pairs[1].Split(\"-\").Select(s => Convert.ToInt32(s)).ToArray();\n",
    "    var result = (pair1[1] <= pair2[1] && pair2[0] <= pair1[0]) || // P1 starts prior/equal to P2 end & P2 starts prior/equal to P1\n",
    "                (pair2[1] <= pair1[1] && pair1[0] <= pair2[0]); // P2 starts prior/equal to P1 end & P1 starts prior/equal to P2\n",
    "    return result;\n",
    "};\n",
    "\n",
    "var puzzleFunction = (bool isTest, Func<string, bool, string[]> inputFunction, Func<string[], bool> solvingFunction) => {\n",
    "    var input = inputFunction(\"04\", isTest);\n",
    "    var count = input.Sum(pairs => solvingFunction(pairs.Split(\",\")) ? 1 : 0);\n",
    "    Console.WriteLine((isTest ? \"Test\" : \"Puzzle\") + $\" Result is:{count}\");\n",
    "};\n",
    "\n",
    "Console.WriteLine(\"Problem 01:\");\n",
    "puzzleFunction(true, inputFunction, solvingFunction);\n",
    "puzzleFunction(false, inputFunction, solvingFunction);\n",
    "\n",
    "solvingFunction = (string[] pairs) => {\n",
    "    var pair1 = pairs[0].Split(\"-\").Select(s => Convert.ToInt32(s)).ToArray();\n",
    "    var pair2 = pairs[1].Split(\"-\").Select(s => Convert.ToInt32(s)).ToArray();\n",
    "    var result = (pair1[0] >= pair2[0] && pair1[0] <= pair2[1]) || // P1 start in P2 range\n",
    "                (pair1[1] >= pair2[0] && pair1[1] <= pair2[1]) || // P1 end in P2 range\n",
    "                (pair2[0] >= pair1[0] && pair2[0] <= pair1[1]) || // P2 start in P1 range\n",
    "                (pair2[1] >= pair1[0] && pair2[1] <= pair1[1]); // P2 end in P1 range\n",
    "    return result;\n",
    "};\n",
    "\n",
    "Console.WriteLine(\"\");\n",
    "Console.WriteLine(\"Problem 02:\");\n",
    "puzzleFunction(true, inputFunction, solvingFunction);\n",
    "puzzleFunction(false, inputFunction, solvingFunction);\n",
    "\n",
    "\n"
   ]
  }
 ],
 "metadata": {
  "kernelspec": {
   "display_name": ".NET (C#)",
   "language": "C#",
   "name": ".net-csharp"
  },
  "language_info": {
   "name": "C#"
  }
 },
 "nbformat": 4,
 "nbformat_minor": 2
}
