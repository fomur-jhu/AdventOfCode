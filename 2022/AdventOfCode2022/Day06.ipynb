{
 "cells": [
  {
   "cell_type": "code",
   "execution_count": 13,
   "metadata": {
    "dotnet_interactive": {
     "language": "csharp"
    },
    "polyglot_notebook": {
     "language": "csharp"
    },
    "vscode": {
     "languageId": "dotnet-interactive.csharp"
    }
   },
   "outputs": [
    {
     "name": "stdout",
     "output_type": "stream",
     "text": [
      "Problem 01:\r\n",
      "Test Results\r\n",
      "Marker Position for 'mjqjpqmgbljsphdztnvjfqwrcgsmlb' is :7\r\n",
      "Marker Position for 'bvwbjplbgvbhsrlpgdmjqwftvncz' is :5\r\n",
      "Marker Position for 'nppdvjthqldpwncqszvftbrmjlhg' is :6\r\n",
      "Marker Position for 'nznrnfrfntjfmvfwmzdfjlvtqnbhcprsg' is :10\r\n",
      "Marker Position for 'zcfzfwzzqfrljwzlrfnpqdbhtmscgvjw' is :11\r\n",
      "\r\n",
      "Puzzle Result\r\n",
      "Marker Position for puzzle is :1655\r\n",
      "\r\n",
      "Problem 02:\r\n",
      "Test Results\r\n",
      "Marker Position for 'mjqjpqmgbljsphdztnvjfqwrcgsmlb' is :19\r\n",
      "Marker Position for 'bvwbjplbgvbhsrlpgdmjqwftvncz' is :23\r\n",
      "Marker Position for 'nppdvjthqldpwncqszvftbrmjlhg' is :23\r\n",
      "Marker Position for 'nznrnfrfntjfmvfwmzdfjlvtqnbhcprsg' is :29\r\n",
      "Marker Position for 'zcfzfwzzqfrljwzlrfnpqdbhtmscgvjw' is :26\r\n",
      "\r\n",
      "Puzzle Result\r\n",
      "Marker Position for puzzle is :2665\r\n"
     ]
    }
   ],
   "source": [
    "using System.IO;\n",
    "\n",
    "var inputFunction = (string day, bool isTest) => {\n",
    "    return File.ReadAllText($\"InputFiles\\\\D{day}{(isTest ? \"_test\" : \"\")}.txt\");\n",
    "};\n",
    "\n",
    "// Problem 02 version is better than this one as it is somewhat re-usable.\n",
    "var markerFinder = (string s) => {\n",
    "    var marker = 3;\n",
    "    for(var i=3; i < s.Length; i++){\n",
    "        var fourChars = new char[4]{s[i],s[i-1],s[i-2],s[i-3]};\n",
    "        if(fourChars.Distinct().Count() == 4)\n",
    "        {\n",
    "            marker = i;\n",
    "            break;\n",
    "        }\n",
    "    }\n",
    "    return marker + 1;\n",
    "};\n",
    "\n",
    "var puzzleFunction = (bool isTest, Func<string, bool, string> inputFunction, Func<string, int> markerFunction) => {\n",
    "    if(isTest){\n",
    "        var input = inputFunction(\"06\", isTest).Split(\"\\n\");\n",
    "        Console.WriteLine(\"Test Results\");\n",
    "        foreach(var s in input){\n",
    "            Console.WriteLine($\"Marker Position for '{s}' is :{markerFunction(s)}\");\n",
    "        }\n",
    "    }else\n",
    "    {\n",
    "        var input = inputFunction(\"06\", isTest);\n",
    "        Console.WriteLine(\"Puzzle Result\");\n",
    "        Console.WriteLine($\"Marker Position for puzzle is :{markerFunction(input)}\");\n",
    "    }    \n",
    "};\n",
    "\n",
    "Console.WriteLine(\"Problem 01:\");\n",
    "puzzleFunction(true, inputFunction, markerFinder);\n",
    "Console.WriteLine(\"\");\n",
    "puzzleFunction(false, inputFunction, markerFinder);\n",
    "\n",
    "Console.WriteLine(\"\");\n",
    "Console.WriteLine(\"Problem 02:\");\n",
    "var startMarkerFinder = (string s, int uniqueCount) => {\n",
    "    var stack = s.Take(uniqueCount).ToList();\n",
    "    var i = uniqueCount;\n",
    "    while(stack.TakeLast(uniqueCount).Distinct().Count() != uniqueCount ){\n",
    "        stack.Add(s[i]);\n",
    "        i++;\n",
    "    }\n",
    "    return i;\n",
    "};\n",
    "\n",
    "var startPuzzleFunction = (bool isTest, int uniqueCount, Func<string, bool, string> inputFunction, Func<string, int, int> markerFunction) => {\n",
    "    if(isTest){\n",
    "        var input = inputFunction(\"06\", isTest).Split(\"\\n\");\n",
    "        Console.WriteLine(\"Test Results\");\n",
    "        foreach(var s in input){\n",
    "            Console.WriteLine($\"Marker Position for '{s}' is :{markerFunction(s, uniqueCount)}\");\n",
    "        }\n",
    "    }else\n",
    "    {\n",
    "        var input = inputFunction(\"06\", isTest);\n",
    "        Console.WriteLine(\"Puzzle Result\");\n",
    "        Console.WriteLine($\"Marker Position for puzzle is :{markerFunction(input, uniqueCount)}\");\n",
    "    }    \n",
    "};\n",
    "\n",
    "\n",
    "startPuzzleFunction(true, 14, inputFunction, startMarkerFinder);\n",
    "Console.WriteLine(\"\");\n",
    "startPuzzleFunction(false, 14, inputFunction, startMarkerFinder);\n",
    "\n",
    "\n"
   ]
  }
 ],
 "metadata": {
  "kernelspec": {
   "display_name": ".NET (C#)",
   "language": "C#",
   "name": ".net-csharp"
  },
  "language_info": {
   "name": "C#"
  }
 },
 "nbformat": 4,
 "nbformat_minor": 2
}
