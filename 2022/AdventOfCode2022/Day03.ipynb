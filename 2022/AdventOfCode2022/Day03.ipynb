{
 "cells": [
  {
   "cell_type": "code",
   "execution_count": 11,
   "metadata": {
    "dotnet_interactive": {
     "language": "csharp"
    },
    "polyglot_notebook": {
     "language": "csharp"
    },
    "vscode": {
     "languageId": "dotnet-interactive.csharp"
    }
   },
   "outputs": [
    {
     "name": "stdout",
     "output_type": "stream",
     "text": [
      "Problem 01:\r\n",
      "Test Score:157\r\n",
      "Puzzle Score:7716\r\n",
      "\r\n",
      "Problem 02:\r\n",
      "Test Score:70\r\n",
      "Puzzle Score:2973\r\n"
     ]
    }
   ],
   "source": [
    "using System.IO;\n",
    "\n",
    "var inputFunction = (string day, bool isTest) => {\n",
    "    return File.ReadAllText($\"InputFiles\\\\D{day}{(isTest ? \"_test\" : \"\")}.txt\").Split(\"\\n\");\n",
    "};\n",
    "\n",
    "var scoreFunction = (string rs) => {\n",
    "    // var dupes = rs.Take(rs.Length/2).Join(rs.TakeLast(rs.Length / 2), c1 => c1, c2 => c2, (c1, c2) => c1).Distinct();\n",
    "    // This is a more readable syntax for this case:\n",
    "    var dupes = from c1 in rs.Take(rs.Length/2)\n",
    "                join c2 in rs.TakeLast(rs.Length/2)\n",
    "                    on c1 equals c2\n",
    "                select c1;\n",
    "    return dupes.Distinct().Sum(d => \"abcdefghijklmnopqrstuvwxyzABCDEFGHIJKLMNOPQRSTUVWXYZ\".IndexOf(d) + 1);\n",
    "};\n",
    "\n",
    "var puzzleFunction = (bool isTest, Func<string, bool, string[]> inputFunction, Func<string, int> scoreFunction) => {\n",
    "    var input = inputFunction(\"03\", isTest);\n",
    "    Console.WriteLine((isTest ? \"Test\" : \"Puzzle\") + \" Score:\" + input.Sum(rs => scoreFunction(rs)));\n",
    "};\n",
    "\n",
    "Console.WriteLine(\"Problem 01:\");\n",
    "puzzleFunction(true, inputFunction, scoreFunction);\n",
    "puzzleFunction(false, inputFunction, scoreFunction);\n",
    "\n",
    "Console.WriteLine(\"\");\n",
    "Console.WriteLine(\"Problem 02:\");\n",
    "\n",
    "var puzzleFunction2 = (bool isTest, Func<string, bool, string[]> inputFunction, Func<string[], int> scoreFunction) => {\n",
    "    var input = inputFunction(\"03\", isTest);\n",
    "    var numOfGroups = input.Length / 3;\n",
    "    var total = 0;\n",
    "    for(int i = 0; i < numOfGroups ; i++){\n",
    "        var start = i * 3;\n",
    "        total += scoreFunction(new String[]{input[start], input[start + 1], input[start + 2]});\n",
    "    }\n",
    "    Console.WriteLine((isTest ? \"Test\" : \"Puzzle\") + \" Score:\" + total);\n",
    "};\n",
    "\n",
    "var scoreFunction2  = (string[] lines) => {    \n",
    "    var dupes = from c1 in lines[0]\n",
    "                join c2 in lines[1]\n",
    "                on c1 equals c2\n",
    "                join c3 in lines[2]\n",
    "                on  c1 equals c3\n",
    "                  select c1;\n",
    "    return dupes.Distinct().Sum(d => \"abcdefghijklmnopqrstuvwxyzABCDEFGHIJKLMNOPQRSTUVWXYZ\".IndexOf(d) + 1);\n",
    "};\n",
    "\n",
    "puzzleFunction2(true, inputFunction, scoreFunction2);\n",
    "puzzleFunction2(false, inputFunction, scoreFunction2);"
   ]
  }
 ],
 "metadata": {
  "kernelspec": {
   "display_name": ".NET (C#)",
   "language": "C#",
   "name": ".net-csharp"
  },
  "language_info": {
   "name": "C#"
  }
 },
 "nbformat": 4,
 "nbformat_minor": 2
}
