{
 "cells": [
  {
   "cell_type": "code",
   "execution_count": 1,
   "metadata": {
    "dotnet_interactive": {
     "language": "csharp"
    },
    "polyglot_notebook": {
     "language": "csharp"
    }
   },
   "outputs": [
    {
     "name": "stdout",
     "output_type": "stream",
     "text": [
      "Problem 01:\n",
      "Test Result: 26\n",
      "Puzzle Result: 5142231\n",
      "Problem 02:\n",
      "ms:7\n",
      "Test Result: x:14 y:11 Frequency: 56000011\n",
      "ms:1244\n",
      "Puzzle Result: x:2721114 y:3367718 Frequency: 10884459367718\n"
     ]
    }
   ],
   "source": [
    "using System.IO;\n",
    "using System.Collections.Generic;\n",
    "using System.Collections.Concurrent;\n",
    "using System.Linq;\n",
    "using System.Text;\n",
    "using System.Linq.Expressions;\n",
    "using System.Diagnostics;\n",
    "\n",
    "var LineSeparator = \"\\r\\n\";\n",
    "var Day = \"15\";\n",
    "\n",
    "public static string[] UltraSplit(this string s, string separator){\n",
    "    return s.Split(separator, StringSplitOptions.RemoveEmptyEntries);\n",
    "}\n",
    "\n",
    "var inputFunction = (string day, bool isTest) => {\n",
    "    var file = File.ReadAllText($\"InputFiles\\\\D{day}{(isTest ? \"_test\" : \"\")}.txt\");\n",
    "    LineSeparator = file.Contains(\"\\r\\n\") ? \"\\r\\n\" : \"\\n\";\n",
    "    return file.UltraSplit(LineSeparator);\n",
    "};\n",
    "\n",
    "public class Point\n",
    "{\n",
    "    public Point(int x, int y)\n",
    "    {\n",
    "        this.X = x;\n",
    "        this.Y = y;\n",
    "    }\n",
    "    public int X;\n",
    "    public int Y;\n",
    "\n",
    "    public long TuningFrequency\n",
    "    {\n",
    "        get \n",
    "        {\n",
    "            return (long)this.X * (long)4000000 + (long)this.Y;\n",
    "\n",
    "        }\n",
    "    }\n",
    "}\n",
    "\n",
    "public class Sensor : Point\n",
    "{\n",
    "    public Sensor(int x, int y, Point closestBeacon) : base(x, y)\n",
    "    {\n",
    "        this.ClosestBeacon = closestBeacon;\n",
    "        CoverageDistance = Math.Abs(x - closestBeacon.X) + Math.Abs(y - closestBeacon.Y);\n",
    "    }\n",
    "\n",
    "    public Point ClosestBeacon;\n",
    "    public int CoverageDistance;\n",
    "\n",
    "    public (int minX, int maxX, int minY, int maxY) Boundary\n",
    "    {\n",
    "        get\n",
    "        {\n",
    "            return (this.X - CoverageDistance, this.X + CoverageDistance, this.Y - CoverageDistance, this.Y + CoverageDistance);\n",
    "        }\n",
    "    }\n",
    "\n",
    "    public int[]? GetRowExclusionRange(int y)\n",
    "    {\n",
    "        var newDistance = Math.Abs(this.Y - y);\n",
    "        if (newDistance > CoverageDistance)\n",
    "        {\n",
    "            return null;\n",
    "        }\n",
    "        else\n",
    "        {\n",
    "            var result = new int[2];\n",
    "            result[0] = this.X - (CoverageDistance - newDistance);\n",
    "            result[1] = this.X + (CoverageDistance - newDistance);\n",
    "            return result;\n",
    "        }\n",
    "    }\n",
    "\n",
    "    public bool IsCovered(Point beacon, bool ignoreClosestBeacon = false)\n",
    "    {\n",
    "        bool isCovered = false;\n",
    "        if (this.ClosestBeacon.X != beacon.X || this.ClosestBeacon.Y != beacon.Y || ignoreClosestBeacon)\n",
    "        {\n",
    "            var newSensor = new Sensor(this.X, this.Y, beacon);\n",
    "            isCovered = CoverageDistance >= newSensor.CoverageDistance;\n",
    "        }\n",
    "        return isCovered;\n",
    "    }\n",
    "}\n",
    "\n",
    "var SolvingFunction = (string[] s) => { \n",
    "    var point = s[1].UltraSplit(\",\");\n",
    "    var beacon = new Point(Convert.ToInt32(point[0]), Convert.ToInt32(point[1]));\n",
    "    point = s[0].UltraSplit(\",\");\n",
    "    var sensor = new Sensor(Convert.ToInt32(point[0]), Convert.ToInt32(point[1]), beacon);\n",
    "    return sensor;\n",
    "};\n",
    "\n",
    "var PuzzleFunction = (bool isTest, Func<string, bool, string[]> inputFunction, Func<string[], Sensor> solvingFunction, int row, int range) => {\n",
    "    var input = inputFunction(Day, isTest);\n",
    "    var sensorList = new List<Sensor>();\n",
    "    int minX = 0, maxX = 0, minY = 0, maxY = 0;\n",
    "    foreach (var line in input)\n",
    "    {\n",
    "        var points = line.Replace(\"Sensor at x=\", \"\")\n",
    "                        .Replace(\" closest beacon is at x=\", \"\")\n",
    "                        .Replace(\" y=\", \"\")\n",
    "                        .UltraSplit(\":\");\n",
    "        var sensor = solvingFunction(points);\n",
    "        minX = Math.Min(sensor.X - sensor.CoverageDistance, minX);\n",
    "        minX = Math.Min(sensor.ClosestBeacon.X, minX);\n",
    "        minY = sensor.Y < minY ? sensor.Y : minY;\n",
    "        minY = sensor.ClosestBeacon.Y < minY ? sensor.ClosestBeacon.Y : minY;\n",
    "\n",
    "        maxX = Math.Max(sensor.X + sensor.CoverageDistance, maxX);\n",
    "        maxX = Math.Max(sensor.ClosestBeacon.X, maxX);\n",
    "        maxY = sensor.Y > maxY ? sensor.Y : maxY;\n",
    "        maxY = sensor.ClosestBeacon.Y > maxY ? sensor.ClosestBeacon.Y : maxY;\n",
    "\n",
    "        sensorList.Add(sensor);\n",
    "    }\n",
    "\n",
    "    // minX = minX * 3;\n",
    "    // maxX = maxX * 3;\n",
    "\n",
    "    if (range == 0)\n",
    "    {\n",
    "        var coveredPoints = Enumerable.Range(minX, maxX - minX).Select(x => new Point(x, row)).Count(b => sensorList.Any(s => s.IsCovered(b)));\n",
    "        Console.WriteLine((isTest ? \"Test\" : \"Puzzle\") + $\" Result: {coveredPoints}\");\n",
    "    }\n",
    "    else\n",
    "    {\n",
    "        minX = minX < 0 ? 0 : minX;\n",
    "        maxX = range < maxX ? range : maxX;\n",
    "        minY = minY < 0 ? 0 : minY;\n",
    "        maxY = range < maxY ? range : maxY;\n",
    "        var yRange = Enumerable.Range(minY, maxY - minY);\n",
    "\n",
    "        var points = yRange.Select(y => new Point(0, y)).ToList();\n",
    "\n",
    "        var concurrentStack = new ConcurrentStack<Point>();\n",
    "        var casioF91W = new Stopwatch();\n",
    "        casioF91W.Start();\n",
    "        var result = Parallel.ForEach(yRange, (y, loopState) =>\n",
    "        {\n",
    "            Point? distressPoint = default;\n",
    "\n",
    "            var start = minX;\n",
    "            var end = maxX;\n",
    "            var exclusionRanges = sensorList.Select(s => s.GetRowExclusionRange(y)).Where(r => r != null && !(r[1] < start || r[0] > end)).ToList();\n",
    "            var pointsToCheck = new List<int>();\n",
    "\n",
    "            var count = exclusionRanges.Count;\n",
    "            foreach (var er in exclusionRanges.OrderBy(er => er[0]))\n",
    "            {\n",
    "                if (start < er[0])\n",
    "                {\n",
    "                    pointsToCheck.AddRange(Enumerable.Range(start, er[0] - start));\n",
    "                    start = er[1] + 1;\n",
    "                }\n",
    "                else if (start < er[1])\n",
    "                {\n",
    "                    start = er[1] + 1;\n",
    "                }\n",
    "                if (--count == 0)\n",
    "                {\n",
    "                    if (end > er[1] && end >= start)\n",
    "                    {\n",
    "                        pointsToCheck.AddRange(Enumerable.Range(start, end - start));\n",
    "                    }\n",
    "                }\n",
    "            }\n",
    "\n",
    "            distressPoint = pointsToCheck.Select(x => new Point(x, y)).FirstOrDefault(p => !sensorList.Any(s => s.IsCovered(p, true)));\n",
    "\n",
    "            if (distressPoint != default)\n",
    "            {\n",
    "                concurrentStack.Push(distressPoint);\n",
    "                loopState.Stop();\n",
    "            }\n",
    "        });\n",
    "\n",
    "        casioF91W.Stop();\n",
    "        Console.WriteLine($\"ms:{casioF91W.ElapsedMilliseconds}\");\n",
    "        concurrentStack.TryPop(out Point distressPoint);\n",
    "        Console.WriteLine((isTest ? \"Test\" : \"Puzzle\") + $\" Result: x:{distressPoint.X} y:{distressPoint.Y} Frequency: {distressPoint.TuningFrequency}\");\n",
    "    }\n",
    "};\n",
    "\n",
    "Console.WriteLine(\"Problem 01:\");\n",
    "PuzzleFunction(true, inputFunction, SolvingFunction, 10, 0);\n",
    "PuzzleFunction(false, inputFunction, SolvingFunction, 2000000, 0);\n",
    "\n",
    "Console.WriteLine(\"Problem 02:\");\n",
    "PuzzleFunction(true, inputFunction, SolvingFunction, 10, 20);\n",
    "PuzzleFunction(false, inputFunction, SolvingFunction, 10, 4000000);"
   ]
  }
 ],
 "metadata": {
  "kernelspec": {
   "display_name": ".NET (C#)",
   "language": "C#",
   "name": ".net-csharp"
  },
  "polyglot_notebook": {
   "kernelInfo": {
    "defaultKernelName": "csharp",
    "items": [
     {
      "aliases": [
       "c#",
       "C#"
      ],
      "languageName": "C#",
      "name": "csharp"
     },
     {
      "aliases": [
       "frontend"
      ],
      "name": "vscode"
     },
     {
      "aliases": [],
      "name": ".NET"
     },
     {
      "aliases": [
       "f#",
       "F#"
      ],
      "languageName": "F#",
      "name": "fsharp"
     },
     {
      "aliases": [],
      "languageName": "HTML",
      "name": "html"
     },
     {
      "aliases": [
       "js"
      ],
      "languageName": "JavaScript",
      "name": "javascript"
     },
     {
      "aliases": [],
      "languageName": "KQL",
      "name": "kql"
     },
     {
      "aliases": [],
      "languageName": "Mermaid",
      "name": "mermaid"
     },
     {
      "aliases": [
       "powershell"
      ],
      "languageName": "PowerShell",
      "name": "pwsh"
     },
     {
      "aliases": [],
      "languageName": "SQL",
      "name": "sql"
     },
     {
      "aliases": [],
      "name": "value"
     },
     {
      "aliases": [],
      "name": "webview"
     }
    ]
   }
  }
 },
 "nbformat": 4,
 "nbformat_minor": 2
}
