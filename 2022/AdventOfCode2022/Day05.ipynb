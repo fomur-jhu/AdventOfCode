{
 "cells": [
  {
   "cell_type": "code",
   "execution_count": 1,
   "metadata": {
    "dotnet_interactive": {
     "language": "csharp"
    },
    "polyglot_notebook": {
     "language": "csharp"
    },
    "vscode": {
     "languageId": "dotnet-interactive.csharp"
    }
   },
   "outputs": [
    {
     "name": "stdout",
     "output_type": "stream",
     "text": [
      "Problem 01:\r\n",
      "Test Result: CMZ\r\n",
      "Puzzle Result: MQSHJMWNH\r\n",
      "\r\n",
      "Problem 02:\r\n",
      "Test Result: MCD\r\n",
      "Puzzle Result: LLWJRBHVZ\r\n"
     ]
    }
   ],
   "source": [
    "using System.IO;\n",
    "using System.Collections.Generic;\n",
    "using System.Linq;\n",
    "using System.Text;\n",
    "using System.Linq.Expressions;\n",
    "\n",
    "var lineSeparator = \"\\r\\n\";\n",
    "var ModelNumber = \"9000\";\n",
    "\n",
    "var inputFunction = (string day, bool isTest) => {\n",
    "    var file = File.ReadAllText($\"InputFiles\\\\D{day}{(isTest ? \"_test\" : \"\")}.txt\");\n",
    "    lineSeparator = file.Contains(\"\\r\\n\") ? \"\\r\\n\" : \"\\n\";\n",
    "    return file.Split(lineSeparator + lineSeparator, StringSplitOptions.RemoveEmptyEntries);\n",
    "};\n",
    "\n",
    "var CrateMoverFunc = (Stack<string> fromStack, Stack<string> toStack, int cratesToMove) => {\n",
    "    switch(ModelNumber){\n",
    "        case \"9000\":\n",
    "            while(cratesToMove > 0){\n",
    "                toStack.Push(fromStack.Pop());\n",
    "                cratesToMove--;\n",
    "            }\n",
    "        break;\n",
    "        case \"9001\":\n",
    "            var stagingStack = new Stack<string>();\n",
    "            while(cratesToMove > 0){\n",
    "                stagingStack.Push(fromStack.Pop());\n",
    "                cratesToMove--;\n",
    "            }\n",
    "            string crate;\n",
    "            while(stagingStack.TryPop(out crate)){\n",
    "                toStack.Push(crate);\n",
    "            }\n",
    "        break;\n",
    "    }\n",
    "};\n",
    "\n",
    "var solvingFunction = (string[] crateLines, string[] procs) => {\n",
    "    // load stacks\n",
    "    var crateStacks = new Dictionary<int, Stack<string>>();\n",
    "    var stacks = crateLines[crateLines.Length - 1].Where(c => c != ' ').Select(c => new string(c, 1));\n",
    "    \n",
    "    foreach(var stack in stacks)\n",
    "    {\n",
    "        var stackNo = Convert.ToInt32(stack);\n",
    "        var stackPos = crateLines[crateLines.Length - 1].IndexOf(stack);\n",
    "        \n",
    "        crateStacks.Add(stackNo, new Stack<string>());\n",
    "        foreach(var crateLine in crateLines.Reverse().Skip(1))//ignore last entry when loading data - not needed\n",
    "        {\n",
    "            var crate = crateLine.Substring(stackPos, 1);\n",
    "            if (!String.IsNullOrWhiteSpace(crate)){\n",
    "                crateStacks[stackNo].Push(crate);\n",
    "            }\n",
    "        }\n",
    "    }\n",
    "    \n",
    "    // apply procs\n",
    "    foreach(var proc in procs){\n",
    "        // parse proc\n",
    "        var moveCount = Convert.ToInt32(proc.Substring(4, proc.IndexOf(\"from\") - 4).Trim());\n",
    "        var movingStacks = new string(proc.Skip(proc.LastIndexOf(\"from\") + 5).ToArray()).Split(\" to \");\n",
    "        var fromStackNo = Convert.ToInt32(movingStacks[0]);\n",
    "        var toStackNo = Convert.ToInt32(movingStacks[1]);\n",
    "        CrateMoverFunc(crateStacks[fromStackNo], crateStacks[toStackNo], moveCount);\n",
    "    }\n",
    "    var sb = new StringBuilder();\n",
    "    foreach(var crateStack in crateStacks){\n",
    "        sb.Append(crateStack.Value.Pop());\n",
    "    }\n",
    "    return sb.ToString();\n",
    "};\n",
    "\n",
    "var puzzleFunction = (bool isTest, Func<string, bool, string[]> inputFunction, Func<string[], string[], string> solvingFunction) => {\n",
    "    var input = inputFunction(\"05\", isTest);\n",
    "    var crateLines = input[0].Split(lineSeparator);\n",
    "    var procs = input[1].Split(lineSeparator, StringSplitOptions.RemoveEmptyEntries);\n",
    "    var topStack = solvingFunction(crateLines, procs);\n",
    "    Console.WriteLine((isTest ? \"Test\" : \"Puzzle\") + $\" Result: {topStack}\");\n",
    "};\n",
    "\n",
    "Console.WriteLine(\"Problem 01:\");\n",
    "puzzleFunction(true, inputFunction, solvingFunction);\n",
    "puzzleFunction(false, inputFunction, solvingFunction);\n",
    "\n",
    "Console.WriteLine(\"\");\n",
    "Console.WriteLine(\"Problem 02:\");\n",
    "ModelNumber = \"9001\";\n",
    "puzzleFunction(true, inputFunction, solvingFunction);\n",
    "puzzleFunction(false, inputFunction, solvingFunction);\n",
    "\n",
    "\n"
   ]
  }
 ],
 "metadata": {
  "kernelspec": {
   "display_name": ".NET (C#)",
   "language": "C#",
   "name": ".net-csharp"
  },
  "language_info": {
   "name": "C#"
  }
 },
 "nbformat": 4,
 "nbformat_minor": 2
}
